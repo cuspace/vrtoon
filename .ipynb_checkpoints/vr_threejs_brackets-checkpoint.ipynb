{
 "cells": [
  {
   "cell_type": "markdown",
   "metadata": {},
   "source": [
    "# 웹브라우저에서 동작하는 VR 제작 환경 구축 (Three.js + Brackets)\n",
    "\n",
    "웹브라우저에서 동작하는 VR 을 만들기 위한 제작 환경을 구축해 보겠습니다.\n",
    "\n",
    "* [Brackets][1]를 다운로드, 설치, 실행 합니다.\n",
    "* `파일 > 폴더열기` 를 클릭하고,\n",
    "<img src=\"https://raw.githubusercontent.com/cuspace/vrtoon/master/img/folder_open.jpg\" style=\"margin: 0\"/>\n",
    "* `New Folder`를 눌러 작업할 폴더 이름을 입력하고,\n",
    "<img src=\"https://raw.githubusercontent.com/cuspace/vrtoon/master/img/new_folder.jpg\" style=\"margin: 0\"/>\n",
    "* `Open`을 눌러 그 폴더를 엽니다.\n",
    "<img src=\"https://raw.githubusercontent.com/cuspace/vrtoon/master/img/open.jpg\" style=\"margin: 0\"/>\n",
    "\n",
    "[1]: http://brackets.io/\n",
    "[2]: http://threejs.org"
   ]
  }
 ],
 "metadata": {
  "kernelspec": {
   "display_name": "Python 3",
   "language": "python",
   "name": "python3"
  },
  "language_info": {
   "codemirror_mode": {
    "name": "ipython",
    "version": 3
   },
   "file_extension": ".py",
   "mimetype": "text/x-python",
   "name": "python",
   "nbconvert_exporter": "python",
   "pygments_lexer": "ipython3",
   "version": "3.4.3"
  }
 },
 "nbformat": 4,
 "nbformat_minor": 0
}
