{
 "cells": [
  {
   "cell_type": "markdown",
   "metadata": {},
   "source": [
    "# VR 직접 만들어보기 (Three.js + Brackets)\n",
    "\n",
    "웹브라우저에서 동작하는 VR 을 직접 만들어 봅시다.\n",
    "\n",
    "* [Brackets][1]를 다운로드 해서 설치합니다.\n",
    "\n",
    "[1]: http://brackets.io/"
   ]
  }
 ],
 "metadata": {
  "kernelspec": {
   "display_name": "Python 3",
   "language": "python",
   "name": "python3"
  },
  "language_info": {
   "codemirror_mode": {
    "name": "ipython",
    "version": 3
   },
   "file_extension": ".py",
   "mimetype": "text/x-python",
   "name": "python",
   "nbconvert_exporter": "python",
   "pygments_lexer": "ipython3",
   "version": "3.4.3"
  }
 },
 "nbformat": 4,
 "nbformat_minor": 0
}
