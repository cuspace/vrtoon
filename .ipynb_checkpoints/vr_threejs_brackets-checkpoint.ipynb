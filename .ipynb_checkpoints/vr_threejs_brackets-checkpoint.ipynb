{
 "cells": [
  {
   "cell_type": "markdown",
   "metadata": {},
   "source": [
    "# 웹브라우저에서 동작하는 VR 제작 환경 구축 (Three.js + Brackets) \n",
    "\n",
    "웹브라우저에서 동작하는 VR 을 만들기 위한 제작 환경을 구축해 보겠습니다.\n",
    "\n",
    "## Brackets 설치, 작업폴더 및 파일 생성\n",
    "* [Brackets][1]를 다운로드, 설치, 실행 합니다.\n",
    "* `파일 > 폴더열기` 를 클릭하고,\n",
    "<img src=\"https://raw.githubusercontent.com/cuspace/vrtoon/master/img/folder_open.jpg\" style=\"margin: 0\"/>\n",
    "* `New Folder`를 눌러 작업할 폴더 이름을 입력하고,\n",
    "<img src=\"https://raw.githubusercontent.com/cuspace/vrtoon/master/img/new_folder.jpg\" style=\"margin: 0\"/>\n",
    "* `Open`을 눌러 그 폴더를 엽니다.\n",
    "<img src=\"https://raw.githubusercontent.com/cuspace/vrtoon/master/img/open.jpg\" style=\"margin: 0\"/>\n",
    "* 마우스 오른쪽 버튼을 눌러 `파일 만들기`를 클릭한 후,\n",
    "<img src=\"https://raw.githubusercontent.com/cuspace/vrtoon/master/img/new_file.jpg\" style=\"margin: 0\"/>\n",
    "* `index.html`이라고 입력해서 파일을 만듭니다.\n",
    "<img src=\"https://raw.githubusercontent.com/cuspace/vrtoon/master/img/index_html.jpg\" style=\"margin: 0\"/>\n",
    "\n",
    "## index.html 기본 골격\n",
    "* `index.html` 에 다음과 같이 입력합니다. 기본 html 파일 형식입니다.\n",
    "```html\n",
    "<!DOCTYPE html>\n",
    "<html>\n",
    "\t<head>\n",
    "\t</head>\n",
    "\t<body>\n",
    "\t</body>\n",
    "</html>\n",
    "```\n",
    "## Brackets 의 실시간 미리 보기 기능 확인\n",
    "* `index.html` 의 `<body></body>` 안에 다음과 같이 입력하고,\n",
    "```html\n",
    "<!DOCTYPE html>\n",
    "<html>\n",
    "\t<head>\n",
    "\t</head>\n",
    "\t<body>\n",
    "        <h1>TEST</h1>\n",
    "\t</body>\n",
    "</html>\n",
    "```\n",
    "* `실시간 미리보기` 를 클릭하면,\n",
    "<img src=\"https://raw.githubusercontent.com/cuspace/vrtoon/master/img/live_preview.jpg\" style=\"margin: 0\"/>\n",
    "* 웹브라우자가 실행되면서 미리볼 수 있습니다.\n",
    "<img src=\"https://raw.githubusercontent.com/cuspace/vrtoon/master/img/live_preview_web.jpg\" style=\"margin: 0\"/>\n",
    "* 이 상태에서 웹브라우저를 닫지 않고, 다시 Brackets 로 돌아가 `TEST`를 `TEST EDIT`으로 바꾸면,\n",
    "```html\n",
    "<!DOCTYPE html>\n",
    "<html>\n",
    "\t<head>\n",
    "\t</head>\n",
    "\t<body>\n",
    "        <h1>TEST EDIT</h1>\n",
    "\t</body>\n",
    "</html>\n",
    "```\n",
    "* 수정과 동시에 그 내용이 웹브라우저에 반영되는 것을 볼 수 있습니다.\n",
    "<img src=\"https://raw.githubusercontent.com/cuspace/vrtoon/master/img/live_preview_web_edit.jpg\" style=\"margin: 0\"/>\n",
    "\n",
    "\n",
    "[1]: http://brackets.io/\n",
    "[2]: http://threejs.org"
   ]
  },
  {
   "cell_type": "code",
   "execution_count": null,
   "metadata": {
    "collapsed": true
   },
   "outputs": [],
   "source": []
  }
 ],
 "metadata": {
  "kernelspec": {
   "display_name": "Python 3",
   "language": "python",
   "name": "python3"
  },
  "language_info": {
   "codemirror_mode": {
    "name": "ipython",
    "version": 3
   },
   "file_extension": ".py",
   "mimetype": "text/x-python",
   "name": "python",
   "nbconvert_exporter": "python",
   "pygments_lexer": "ipython3",
   "version": "3.4.3"
  }
 },
 "nbformat": 4,
 "nbformat_minor": 0
}
